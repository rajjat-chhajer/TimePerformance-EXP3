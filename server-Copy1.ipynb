{
 "cells": [
  {
   "cell_type": "code",
   "execution_count": 1,
   "id": "c4c85a7b",
   "metadata": {},
   "outputs": [],
   "source": [
    "Cryptkey = b'\\xb9t5RR\\x9d\\x1d+\\xaa\\xa3\\xd1}\\xfb\\x1a\\x1d\\xcb'\n",
    "from Crypto.Cipher import AES\n",
    "from Crypto.Random import get_random_bytes\n",
    "from Crypto.Util.Padding import pad, unpad\n",
    "\n",
    "def encrypt_AES(Cryptkey, data):\n",
    "    data = bytes.fromhex(data)\n",
    "    cipher = AES.new(Cryptkey, AES.MODE_CBC)\n",
    "    ciphertext = cipher.encrypt(pad(data, AES.block_size))\n",
    "    iv = cipher.iv\n",
    "    return iv + ciphertext\n",
    "\n",
    "def decrypt_AES(Cryptkey, encrypted_data):\n",
    "    encrypted_data = bytes.fromhex(encrypted_data)\n",
    "    iv = encrypted_data[:AES.block_size]\n",
    "    ciphertext = encrypted_data[AES.block_size:]\n",
    "    cipher = AES.new(Cryptkey, AES.MODE_CBC, iv)\n",
    "    plaintext = unpad(cipher.decrypt(ciphertext), AES.block_size)\n",
    "    return plaintext"
   ]
  },
  {
   "cell_type": "code",
   "execution_count": 2,
   "id": "67e8de66",
   "metadata": {},
   "outputs": [],
   "source": [
    "import numpy as np\n",
    "def SeedGenerator():\n",
    "    return get_random_bytes(4).hex()\n",
    "# SeedGenerator()\n",
    "# import os\n",
    "# print(os.urandom(1).hex())\n",
    "def ValLevel(lvl):\n",
    "    if len(lvl)==1:\n",
    "        return '0'+lvl\n",
    "    else:\n",
    "        return lvl"
   ]
  },
  {
   "cell_type": "code",
   "execution_count": 3,
   "id": "2479038d",
   "metadata": {},
   "outputs": [],
   "source": [
    "def SeedGen(seed):\n",
    "    global Cryptkey\n",
    "    print(type(seed))\n",
    "    return decrypt_AES(Cryptkey,seed).hex()\n",
    "def ValidateRequest(from_client, step,key=''):\n",
    "    secAccLvl = int(from_client[3:5])\n",
    "    if from_client[0:2] == '27' and secAccLvl%2==1:\n",
    "        if step == 0:\n",
    "            seed = SeedGenerator()\n",
    "            temp = '67 ' + ValLevel(str(secAccLvl)) + ' '+ seed\n",
    "            print(temp)\n",
    "            return [temp, seed]\n",
    "        else : \n",
    "            print(\"Wrong request\")\n",
    "            return ['End','']\n",
    "    if from_client[0:2] == '27' and secAccLvl%2==0 and key!='':\n",
    "        if step == 1 and key == SeedGen(from_client[6:len(from_client)]):\n",
    "            print('67 '+ ValLevel(str(secAccLvl)),'')\n",
    "            return ['67 '+ ValLevel(str(secAccLvl)),'']        \n",
    "        else : \n",
    "            print(\"Wrong request/key not matched/empty\")\n",
    "            return ['End','']\n",
    "    "
   ]
  },
  {
   "cell_type": "code",
   "execution_count": 4,
   "id": "daddc8d8",
   "metadata": {},
   "outputs": [
    {
     "name": "stdout",
     "output_type": "stream",
     "text": [
      "Tester Connected\n",
      "\n",
      "27 07\n",
      "67 07 c94a9174\n",
      "27 08 22be2b611e716464ead09e85bd35d3ea34de97f8693fcc91cd3a6cf49b37a13f\n",
      "<class 'str'>\n",
      "67 08 \n",
      "ECU unlocked\n",
      "terminating connection\n"
     ]
    }
   ],
   "source": [
    "import socket\n",
    "serv = socket.socket(socket.AF_INET, socket.SOCK_STREAM)\n",
    "serv.bind(('0.0.0.0', 8080))\n",
    "serv.listen(5)\n",
    "a=0\n",
    "b =0\n",
    "while a==0:\n",
    "  conn, addr = serv.accept()\n",
    "  from_client = ''\n",
    "  step = 0\n",
    "  while b==0:\n",
    "    data = conn.recv(4096)\n",
    "    if not data: break\n",
    "    from_client = data.decode('utf8')\n",
    "    print (from_client)\n",
    "    msg = 'ECU Connected'\n",
    "    conn.send(msg.encode())\n",
    "    data = conn.recv(4096)\n",
    "    from_client = data.decode('utf8')\n",
    "    print (from_client)\n",
    "    resp = ValidateRequest(from_client,step,'')\n",
    "    seed = resp[1]\n",
    "    conn.send(resp[0].encode())\n",
    "    if resp[0] == 'End':\n",
    "        a=1\n",
    "        b=1\n",
    "        break\n",
    "    else: step = 1\n",
    "    data = conn.recv(4096)\n",
    "    from_client = data.decode('utf8')\n",
    "    print (from_client)\n",
    "    resp = ValidateRequest(from_client,step,seed)\n",
    "    conn.send(resp[0].encode())\n",
    "    if resp[0] == 'End':\n",
    "        a=1\n",
    "        b=1\n",
    "        break\n",
    "    else: \n",
    "        print(\"ECU unlocked\")\n",
    "        a = 1\n",
    "        b =1\n",
    "        break\n",
    "    \n",
    "  conn.close()\n",
    "print ('terminating connection')\n"
   ]
  },
  {
   "cell_type": "code",
   "execution_count": null,
   "id": "3d20ede8",
   "metadata": {},
   "outputs": [
    {
     "name": "stdout",
     "output_type": "stream",
     "text": [
      "Tester Connected\n",
      "\n",
      "27 07\n",
      "67 07 f7416e92\n",
      "27 08 869f326cd35b0d2f5430cdb9834405f5f664cb413a1a457458c13cd5590c0599\n",
      "<class 'str'>\n",
      "67 08 \n",
      "ECU unlocked\n",
      "terminating connection\n",
      "Tester Connected\n",
      "\n",
      "27 07\n",
      "67 07 234440af\n",
      "27 08 e4e06a747098d4c58c7701234fe5c9332695054408d61d5891dac34b9be906c7\n",
      "<class 'str'>\n",
      "67 08 \n",
      "ECU unlocked\n",
      "terminating connection\n",
      "Tester Connected\n",
      "\n",
      "27 07\n",
      "67 07 cddfa298\n",
      "27 08 fbce02a9d2b249eefc020e7f5e51cb053500214fa1163298f38b18e19591bd1a\n",
      "<class 'str'>\n",
      "67 08 \n",
      "ECU unlocked\n",
      "terminating connection\n",
      "Tester Connected\n",
      "\n",
      "27 07\n",
      "67 07 c125253c\n",
      "27 08 9656bde7eee63443d0229f26c2c5efe44679fd69085b3ff0536c918cfe8059f9\n",
      "<class 'str'>\n",
      "67 08 \n",
      "ECU unlocked\n",
      "terminating connection\n",
      "Tester Connected\n",
      "\n",
      "27 07\n",
      "67 07 b751b5df\n",
      "27 08 6293d7bb97ee6c3836fb628192ea086ced4a1f3414ce7fcce4efbca1a8601d40\n",
      "<class 'str'>\n",
      "67 08 \n",
      "ECU unlocked\n",
      "terminating connection\n",
      "Tester Connected\n",
      "\n",
      "27 07\n",
      "67 07 1e2cd88c\n",
      "27 08 698598ba7344cfdd5cbdd0659ac6365951c38de152400c181b392fbd28b949b8\n",
      "<class 'str'>\n",
      "67 08 \n",
      "ECU unlocked\n",
      "terminating connection\n",
      "Tester Connected\n",
      "\n",
      "27 07\n",
      "67 07 97186644\n",
      "27 08 e4b5bc9df34969e8a588d6efe137df75ad2ec0055afded282aa70d7773bb75c2\n",
      "<class 'str'>\n",
      "67 08 \n",
      "ECU unlocked\n",
      "terminating connection\n",
      "Tester Connected\n",
      "\n",
      "27 07\n",
      "67 07 ad2e235b\n",
      "27 08 6534fcbacb7ed0200a437ca947c036ed58608afaaedd0043ad4d9202787b8354\n",
      "<class 'str'>\n",
      "67 08 \n",
      "ECU unlocked\n",
      "terminating connection\n",
      "Tester Connected\n",
      "\n",
      "27 07\n",
      "67 07 3c863e47\n",
      "27 08 2445e428e62d4a9fef97a4c024be7c0a41c40e24816f252b18ec14633bbf513c\n",
      "<class 'str'>\n",
      "67 08 \n",
      "ECU unlocked\n",
      "terminating connection\n",
      "Tester Connected\n",
      "\n",
      "27 07\n",
      "67 07 a5bbd5ed\n",
      "27 08 a182078743ad8388607d5c577876510349d0c716915cbf5de375fce1a034b6f0\n",
      "<class 'str'>\n",
      "67 08 \n",
      "ECU unlocked\n",
      "terminating connection\n",
      "Tester Connected\n",
      "\n",
      "27 07\n",
      "67 07 986e3aaf\n",
      "27 08 5f2cbe14528184f3e3394040826887496a2ad5cc2e8ff00b1ed5ddeb4481e0da\n",
      "<class 'str'>\n",
      "67 08 \n",
      "ECU unlocked\n",
      "terminating connection\n",
      "Tester Connected\n",
      "\n",
      "27 07\n",
      "67 07 dd7ede18\n",
      "27 08 949dbc3e820d66dc95bba098ef15fce5dc99277b2e85b880f4344737ffa127a7\n",
      "<class 'str'>\n",
      "67 08 \n",
      "ECU unlocked\n",
      "terminating connection\n",
      "Tester Connected\n",
      "\n",
      "27 07\n",
      "67 07 f6350ad0\n",
      "27 08 11fb3a4856f33bc6aace13cfc2c7139c72d5a07f062c50836d0d26700ef69f81\n",
      "<class 'str'>\n",
      "67 08 \n",
      "ECU unlocked\n",
      "terminating connection\n",
      "Tester Connected\n",
      "\n",
      "27 07\n",
      "67 07 02cb6f49\n",
      "27 08 ac67cac1fce782b5d131689400f467e7b5f58cca1690fc3785845053bc424c3c\n",
      "<class 'str'>\n",
      "67 08 \n",
      "ECU unlocked\n",
      "terminating connection\n",
      "Tester Connected\n",
      "\n",
      "27 07\n",
      "67 07 23588d78\n",
      "27 08 12cac7813438ac4a74ed2f9abe63146580db89f523109fc07f3a0a2d96551731\n",
      "<class 'str'>\n",
      "67 08 \n",
      "ECU unlocked\n",
      "terminating connection\n",
      "Tester Connected\n",
      "\n",
      "27 07\n",
      "67 07 c30e8136\n",
      "27 08 99c7276e54f84980b9dbb33e8521ee390f742bacbbf9f89d278319a3846c2f5d\n",
      "<class 'str'>\n",
      "67 08 \n",
      "ECU unlocked\n",
      "terminating connection\n",
      "Tester Connected\n",
      "\n",
      "27 07\n",
      "67 07 e9b51830\n",
      "27 08 6cfd2d5925ab9c149c1216f21a43ef1bc5554f1a21736cf72db55d8a18e2a69f\n",
      "<class 'str'>\n",
      "67 08 \n",
      "ECU unlocked\n",
      "terminating connection\n",
      "Tester Connected\n",
      "\n",
      "27 07\n",
      "67 07 bb5a0f53\n",
      "27 08 f6dec84b3c4df4f8a1f24e64c1aaeb3932c2fc8ea5d7501a3127972787b3c6a3\n",
      "<class 'str'>\n",
      "67 08 \n",
      "ECU unlocked\n",
      "terminating connection\n",
      "Tester Connected\n",
      "\n",
      "27 07\n",
      "67 07 234c42a4\n",
      "27 08 131b6a25f4aaadd33cbd8c5adc35440730eef9710d57e7fa58ba212c88d7b21f\n",
      "<class 'str'>\n",
      "67 08 \n",
      "ECU unlocked\n",
      "terminating connection\n",
      "Tester Connected\n",
      "\n",
      "27 07\n",
      "67 07 e80f42c2\n",
      "27 08 c960eac4fefd8c711e3440dd2368fe1bc4b4de64dceefd26764a3ebcd4b16695\n",
      "<class 'str'>\n",
      "67 08 \n",
      "ECU unlocked\n",
      "terminating connection\n",
      "Tester Connected\n",
      "\n",
      "27 07\n",
      "67 07 df7fb3bf\n",
      "27 08 f6262fe520622ea044745de16763140ef846be3ce82ed3afec63fad3a22d42e3\n",
      "<class 'str'>\n",
      "67 08 \n",
      "ECU unlocked\n",
      "terminating connection\n"
     ]
    }
   ],
   "source": [
    "import socket\n",
    "for _ in range(0,100):\n",
    "    serv = socket.socket(socket.AF_INET, socket.SOCK_STREAM)\n",
    "    serv.bind(('0.0.0.0', 8080))\n",
    "    serv.listen(5)\n",
    "    a=0\n",
    "    b =0\n",
    "    while a==0:\n",
    "      conn, addr = serv.accept()\n",
    "      from_client = ''\n",
    "      step = 0\n",
    "      while b==0:\n",
    "        data = conn.recv(4096)\n",
    "        if not data: break\n",
    "        from_client = data.decode('utf8')\n",
    "        print (from_client)\n",
    "        msg = 'ECU Connected'\n",
    "        conn.send(msg.encode())\n",
    "        data = conn.recv(4096)\n",
    "        from_client = data.decode('utf8')\n",
    "        print (from_client)\n",
    "        resp = ValidateRequest(from_client,step,'')\n",
    "        seed = resp[1]\n",
    "        conn.send(resp[0].encode())\n",
    "        if resp[0] == 'End':\n",
    "            a=1\n",
    "            b=1\n",
    "            break\n",
    "        else: step = 1\n",
    "        data = conn.recv(4096)\n",
    "        from_client = data.decode('utf8')\n",
    "        print (from_client)\n",
    "        resp = ValidateRequest(from_client,step,seed)\n",
    "        conn.send(resp[0].encode())\n",
    "        if resp[0] == 'End':\n",
    "            a=1\n",
    "            b=1\n",
    "            break\n",
    "        else: \n",
    "            print(\"ECU unlocked\")\n",
    "            a = 1\n",
    "            b =1\n",
    "            break\n",
    "\n",
    "      conn.close()\n",
    "    print ('terminating connection')\n"
   ]
  },
  {
   "cell_type": "code",
   "execution_count": 29,
   "id": "5a4dffad",
   "metadata": {},
   "outputs": [
    {
     "ename": "UnicodeDecodeError",
     "evalue": "'ascii' codec can't decode byte 0xb9 in position 0: ordinal not in range(128)",
     "output_type": "error",
     "traceback": [
      "\u001b[1;31m---------------------------------------------------------------------------\u001b[0m",
      "\u001b[1;31mUnicodeDecodeError\u001b[0m                        Traceback (most recent call last)",
      "\u001b[1;32m~\\AppData\\Local\\Temp/ipykernel_22404/2021498892.py\u001b[0m in \u001b[0;36m<module>\u001b[1;34m\u001b[0m\n\u001b[1;32m----> 1\u001b[1;33m \u001b[0mCryptkey\u001b[0m\u001b[1;33m.\u001b[0m\u001b[0mdecode\u001b[0m\u001b[1;33m(\u001b[0m\u001b[1;34m\"ascii\"\u001b[0m\u001b[1;33m)\u001b[0m\u001b[1;33m\u001b[0m\u001b[1;33m\u001b[0m\u001b[0m\n\u001b[0m",
      "\u001b[1;31mUnicodeDecodeError\u001b[0m: 'ascii' codec can't decode byte 0xb9 in position 0: ordinal not in range(128)"
     ]
    }
   ],
   "source": []
  },
  {
   "cell_type": "code",
   "execution_count": 1,
   "id": "252a3f9c",
   "metadata": {},
   "outputs": [
    {
     "name": "stdout",
     "output_type": "stream",
     "text": [
      "{'v_no': 'x.509', 's_no': 101, 'sa_id': 'SHA-256', 'i_n': 'CA', 'v_start': datetime.datetime(2024, 1, 10, 5, 41, 25, 68971), 'v_stop': datetime.datetime(2025, 1, 9, 5, 41, 25, 68971), 's_n': 'ECU1', 's_PK': PublicKey(7593926193968197275178698352884260706973814238845672837113329567781120882207475389908256689896036158577205308970895300685638011937416035359453185277519439, 65537), 'ext': 2, 'sig': b'f\\xd7\\xb7{\\x9a\\x1a\\xccu\\x06\\x07\\xf2\\xdbQ(^\\x0cN\\xcc\\t)\\x07{:\\xee\\xd0D\\x86J\\x99\\xbb\\xec\\xa66\\xf7W\\xd4\\xbb\\x1e\\xe1Hq|\\xbf\\xbd\\xf6\\x92\\xc7L\\xe0d]\\xfe*\\x84z\\xb2\\xc6\\xeb|+\\xdc\\x84\\xe9\\x98'}\n"
     ]
    }
   ],
   "source": []
  },
  {
   "cell_type": "code",
   "execution_count": null,
   "id": "84ef03a6",
   "metadata": {},
   "outputs": [],
   "source": [
    "import pandas as pd\n",
    "Replayed = pd.DataFrame([])\n",
    "for _ in range(0,10):    \n",
    "    a = get_random_bytes(4).hex()\n",
    "    b = get_random_bytes(4).hex()\n",
    "    count = 0\n",
    "#     print(count)\n",
    "    while a != b:\n",
    "        b = get_random_bytes(4).hex()\n",
    "        count = count +1;\n",
    "    \n",
    "    Replayed = Replayed.append([count])"
   ]
  },
  {
   "cell_type": "code",
   "execution_count": null,
   "id": "52829538",
   "metadata": {},
   "outputs": [],
   "source": [
    "print('maximum number of iteration ',Replayed.max())\n",
    "print('minimum number of iteration',Replayed.min()) \n",
    "print('Average number of iteration', Replayed.mean())"
   ]
  },
  {
   "cell_type": "code",
   "execution_count": null,
   "id": "62c6249f",
   "metadata": {},
   "outputs": [],
   "source": [
    "print(Replayed.mean())\n",
    "pow(2,32)"
   ]
  },
  {
   "cell_type": "code",
   "execution_count": 70,
   "id": "f94f9338",
   "metadata": {},
   "outputs": [
    {
     "name": "stderr",
     "output_type": "stream",
     "text": [
      "C:\\Users\\A477967\\AppData\\Local\\Temp/ipykernel_2276/201914381.py:18: FutureWarning: The frame.append method is deprecated and will be removed from pandas in a future version. Use pandas.concat instead.\n",
      "  Replayed = Replayed.append([count])\n",
      "C:\\Users\\A477967\\AppData\\Local\\Temp/ipykernel_2276/201914381.py:18: FutureWarning: The frame.append method is deprecated and will be removed from pandas in a future version. Use pandas.concat instead.\n",
      "  Replayed = Replayed.append([count])\n",
      "C:\\Users\\A477967\\AppData\\Local\\Temp/ipykernel_2276/201914381.py:18: FutureWarning: The frame.append method is deprecated and will be removed from pandas in a future version. Use pandas.concat instead.\n",
      "  Replayed = Replayed.append([count])\n",
      "C:\\Users\\A477967\\AppData\\Local\\Temp/ipykernel_2276/201914381.py:18: FutureWarning: The frame.append method is deprecated and will be removed from pandas in a future version. Use pandas.concat instead.\n",
      "  Replayed = Replayed.append([count])\n",
      "C:\\Users\\A477967\\AppData\\Local\\Temp/ipykernel_2276/201914381.py:18: FutureWarning: The frame.append method is deprecated and will be removed from pandas in a future version. Use pandas.concat instead.\n",
      "  Replayed = Replayed.append([count])\n",
      "C:\\Users\\A477967\\AppData\\Local\\Temp/ipykernel_2276/201914381.py:18: FutureWarning: The frame.append method is deprecated and will be removed from pandas in a future version. Use pandas.concat instead.\n",
      "  Replayed = Replayed.append([count])\n",
      "C:\\Users\\A477967\\AppData\\Local\\Temp/ipykernel_2276/201914381.py:18: FutureWarning: The frame.append method is deprecated and will be removed from pandas in a future version. Use pandas.concat instead.\n",
      "  Replayed = Replayed.append([count])\n",
      "C:\\Users\\A477967\\AppData\\Local\\Temp/ipykernel_2276/201914381.py:18: FutureWarning: The frame.append method is deprecated and will be removed from pandas in a future version. Use pandas.concat instead.\n",
      "  Replayed = Replayed.append([count])\n",
      "C:\\Users\\A477967\\AppData\\Local\\Temp/ipykernel_2276/201914381.py:18: FutureWarning: The frame.append method is deprecated and will be removed from pandas in a future version. Use pandas.concat instead.\n",
      "  Replayed = Replayed.append([count])\n",
      "C:\\Users\\A477967\\AppData\\Local\\Temp/ipykernel_2276/201914381.py:18: FutureWarning: The frame.append method is deprecated and will be removed from pandas in a future version. Use pandas.concat instead.\n",
      "  Replayed = Replayed.append([count])\n",
      "C:\\Users\\A477967\\AppData\\Local\\Temp/ipykernel_2276/201914381.py:18: FutureWarning: The frame.append method is deprecated and will be removed from pandas in a future version. Use pandas.concat instead.\n",
      "  Replayed = Replayed.append([count])\n",
      "C:\\Users\\A477967\\AppData\\Local\\Temp/ipykernel_2276/201914381.py:18: FutureWarning: The frame.append method is deprecated and will be removed from pandas in a future version. Use pandas.concat instead.\n",
      "  Replayed = Replayed.append([count])\n",
      "C:\\Users\\A477967\\AppData\\Local\\Temp/ipykernel_2276/201914381.py:18: FutureWarning: The frame.append method is deprecated and will be removed from pandas in a future version. Use pandas.concat instead.\n",
      "  Replayed = Replayed.append([count])\n",
      "C:\\Users\\A477967\\AppData\\Local\\Temp/ipykernel_2276/201914381.py:18: FutureWarning: The frame.append method is deprecated and will be removed from pandas in a future version. Use pandas.concat instead.\n",
      "  Replayed = Replayed.append([count])\n",
      "C:\\Users\\A477967\\AppData\\Local\\Temp/ipykernel_2276/201914381.py:18: FutureWarning: The frame.append method is deprecated and will be removed from pandas in a future version. Use pandas.concat instead.\n",
      "  Replayed = Replayed.append([count])\n",
      "C:\\Users\\A477967\\AppData\\Local\\Temp/ipykernel_2276/201914381.py:18: FutureWarning: The frame.append method is deprecated and will be removed from pandas in a future version. Use pandas.concat instead.\n",
      "  Replayed = Replayed.append([count])\n",
      "C:\\Users\\A477967\\AppData\\Local\\Temp/ipykernel_2276/201914381.py:18: FutureWarning: The frame.append method is deprecated and will be removed from pandas in a future version. Use pandas.concat instead.\n",
      "  Replayed = Replayed.append([count])\n",
      "C:\\Users\\A477967\\AppData\\Local\\Temp/ipykernel_2276/201914381.py:18: FutureWarning: The frame.append method is deprecated and will be removed from pandas in a future version. Use pandas.concat instead.\n",
      "  Replayed = Replayed.append([count])\n",
      "C:\\Users\\A477967\\AppData\\Local\\Temp/ipykernel_2276/201914381.py:18: FutureWarning: The frame.append method is deprecated and will be removed from pandas in a future version. Use pandas.concat instead.\n",
      "  Replayed = Replayed.append([count])\n",
      "C:\\Users\\A477967\\AppData\\Local\\Temp/ipykernel_2276/201914381.py:18: FutureWarning: The frame.append method is deprecated and will be removed from pandas in a future version. Use pandas.concat instead.\n",
      "  Replayed = Replayed.append([count])\n",
      "C:\\Users\\A477967\\AppData\\Local\\Temp/ipykernel_2276/201914381.py:18: FutureWarning: The frame.append method is deprecated and will be removed from pandas in a future version. Use pandas.concat instead.\n",
      "  Replayed = Replayed.append([count])\n",
      "C:\\Users\\A477967\\AppData\\Local\\Temp/ipykernel_2276/201914381.py:18: FutureWarning: The frame.append method is deprecated and will be removed from pandas in a future version. Use pandas.concat instead.\n",
      "  Replayed = Replayed.append([count])\n",
      "C:\\Users\\A477967\\AppData\\Local\\Temp/ipykernel_2276/201914381.py:18: FutureWarning: The frame.append method is deprecated and will be removed from pandas in a future version. Use pandas.concat instead.\n",
      "  Replayed = Replayed.append([count])\n",
      "C:\\Users\\A477967\\AppData\\Local\\Temp/ipykernel_2276/201914381.py:18: FutureWarning: The frame.append method is deprecated and will be removed from pandas in a future version. Use pandas.concat instead.\n",
      "  Replayed = Replayed.append([count])\n",
      "C:\\Users\\A477967\\AppData\\Local\\Temp/ipykernel_2276/201914381.py:18: FutureWarning: The frame.append method is deprecated and will be removed from pandas in a future version. Use pandas.concat instead.\n",
      "  Replayed = Replayed.append([count])\n",
      "C:\\Users\\A477967\\AppData\\Local\\Temp/ipykernel_2276/201914381.py:18: FutureWarning: The frame.append method is deprecated and will be removed from pandas in a future version. Use pandas.concat instead.\n",
      "  Replayed = Replayed.append([count])\n",
      "C:\\Users\\A477967\\AppData\\Local\\Temp/ipykernel_2276/201914381.py:18: FutureWarning: The frame.append method is deprecated and will be removed from pandas in a future version. Use pandas.concat instead.\n",
      "  Replayed = Replayed.append([count])\n",
      "C:\\Users\\A477967\\AppData\\Local\\Temp/ipykernel_2276/201914381.py:18: FutureWarning: The frame.append method is deprecated and will be removed from pandas in a future version. Use pandas.concat instead.\n",
      "  Replayed = Replayed.append([count])\n",
      "C:\\Users\\A477967\\AppData\\Local\\Temp/ipykernel_2276/201914381.py:18: FutureWarning: The frame.append method is deprecated and will be removed from pandas in a future version. Use pandas.concat instead.\n",
      "  Replayed = Replayed.append([count])\n",
      "C:\\Users\\A477967\\AppData\\Local\\Temp/ipykernel_2276/201914381.py:18: FutureWarning: The frame.append method is deprecated and will be removed from pandas in a future version. Use pandas.concat instead.\n",
      "  Replayed = Replayed.append([count])\n",
      "C:\\Users\\A477967\\AppData\\Local\\Temp/ipykernel_2276/201914381.py:18: FutureWarning: The frame.append method is deprecated and will be removed from pandas in a future version. Use pandas.concat instead.\n",
      "  Replayed = Replayed.append([count])\n",
      "C:\\Users\\A477967\\AppData\\Local\\Temp/ipykernel_2276/201914381.py:18: FutureWarning: The frame.append method is deprecated and will be removed from pandas in a future version. Use pandas.concat instead.\n",
      "  Replayed = Replayed.append([count])\n",
      "C:\\Users\\A477967\\AppData\\Local\\Temp/ipykernel_2276/201914381.py:18: FutureWarning: The frame.append method is deprecated and will be removed from pandas in a future version. Use pandas.concat instead.\n",
      "  Replayed = Replayed.append([count])\n",
      "C:\\Users\\A477967\\AppData\\Local\\Temp/ipykernel_2276/201914381.py:18: FutureWarning: The frame.append method is deprecated and will be removed from pandas in a future version. Use pandas.concat instead.\n",
      "  Replayed = Replayed.append([count])\n",
      "C:\\Users\\A477967\\AppData\\Local\\Temp/ipykernel_2276/201914381.py:18: FutureWarning: The frame.append method is deprecated and will be removed from pandas in a future version. Use pandas.concat instead.\n",
      "  Replayed = Replayed.append([count])\n",
      "C:\\Users\\A477967\\AppData\\Local\\Temp/ipykernel_2276/201914381.py:18: FutureWarning: The frame.append method is deprecated and will be removed from pandas in a future version. Use pandas.concat instead.\n",
      "  Replayed = Replayed.append([count])\n"
     ]
    },
    {
     "name": "stderr",
     "output_type": "stream",
     "text": [
      "C:\\Users\\A477967\\AppData\\Local\\Temp/ipykernel_2276/201914381.py:18: FutureWarning: The frame.append method is deprecated and will be removed from pandas in a future version. Use pandas.concat instead.\n",
      "  Replayed = Replayed.append([count])\n",
      "C:\\Users\\A477967\\AppData\\Local\\Temp/ipykernel_2276/201914381.py:18: FutureWarning: The frame.append method is deprecated and will be removed from pandas in a future version. Use pandas.concat instead.\n",
      "  Replayed = Replayed.append([count])\n",
      "C:\\Users\\A477967\\AppData\\Local\\Temp/ipykernel_2276/201914381.py:18: FutureWarning: The frame.append method is deprecated and will be removed from pandas in a future version. Use pandas.concat instead.\n",
      "  Replayed = Replayed.append([count])\n",
      "C:\\Users\\A477967\\AppData\\Local\\Temp/ipykernel_2276/201914381.py:18: FutureWarning: The frame.append method is deprecated and will be removed from pandas in a future version. Use pandas.concat instead.\n",
      "  Replayed = Replayed.append([count])\n",
      "C:\\Users\\A477967\\AppData\\Local\\Temp/ipykernel_2276/201914381.py:18: FutureWarning: The frame.append method is deprecated and will be removed from pandas in a future version. Use pandas.concat instead.\n",
      "  Replayed = Replayed.append([count])\n",
      "C:\\Users\\A477967\\AppData\\Local\\Temp/ipykernel_2276/201914381.py:18: FutureWarning: The frame.append method is deprecated and will be removed from pandas in a future version. Use pandas.concat instead.\n",
      "  Replayed = Replayed.append([count])\n",
      "C:\\Users\\A477967\\AppData\\Local\\Temp/ipykernel_2276/201914381.py:18: FutureWarning: The frame.append method is deprecated and will be removed from pandas in a future version. Use pandas.concat instead.\n",
      "  Replayed = Replayed.append([count])\n",
      "C:\\Users\\A477967\\AppData\\Local\\Temp/ipykernel_2276/201914381.py:18: FutureWarning: The frame.append method is deprecated and will be removed from pandas in a future version. Use pandas.concat instead.\n",
      "  Replayed = Replayed.append([count])\n",
      "C:\\Users\\A477967\\AppData\\Local\\Temp/ipykernel_2276/201914381.py:18: FutureWarning: The frame.append method is deprecated and will be removed from pandas in a future version. Use pandas.concat instead.\n",
      "  Replayed = Replayed.append([count])\n",
      "C:\\Users\\A477967\\AppData\\Local\\Temp/ipykernel_2276/201914381.py:18: FutureWarning: The frame.append method is deprecated and will be removed from pandas in a future version. Use pandas.concat instead.\n",
      "  Replayed = Replayed.append([count])\n",
      "C:\\Users\\A477967\\AppData\\Local\\Temp/ipykernel_2276/201914381.py:18: FutureWarning: The frame.append method is deprecated and will be removed from pandas in a future version. Use pandas.concat instead.\n",
      "  Replayed = Replayed.append([count])\n",
      "C:\\Users\\A477967\\AppData\\Local\\Temp/ipykernel_2276/201914381.py:18: FutureWarning: The frame.append method is deprecated and will be removed from pandas in a future version. Use pandas.concat instead.\n",
      "  Replayed = Replayed.append([count])\n",
      "C:\\Users\\A477967\\AppData\\Local\\Temp/ipykernel_2276/201914381.py:18: FutureWarning: The frame.append method is deprecated and will be removed from pandas in a future version. Use pandas.concat instead.\n",
      "  Replayed = Replayed.append([count])\n",
      "C:\\Users\\A477967\\AppData\\Local\\Temp/ipykernel_2276/201914381.py:18: FutureWarning: The frame.append method is deprecated and will be removed from pandas in a future version. Use pandas.concat instead.\n",
      "  Replayed = Replayed.append([count])\n",
      "C:\\Users\\A477967\\AppData\\Local\\Temp/ipykernel_2276/201914381.py:18: FutureWarning: The frame.append method is deprecated and will be removed from pandas in a future version. Use pandas.concat instead.\n",
      "  Replayed = Replayed.append([count])\n",
      "C:\\Users\\A477967\\AppData\\Local\\Temp/ipykernel_2276/201914381.py:18: FutureWarning: The frame.append method is deprecated and will be removed from pandas in a future version. Use pandas.concat instead.\n",
      "  Replayed = Replayed.append([count])\n",
      "C:\\Users\\A477967\\AppData\\Local\\Temp/ipykernel_2276/201914381.py:18: FutureWarning: The frame.append method is deprecated and will be removed from pandas in a future version. Use pandas.concat instead.\n",
      "  Replayed = Replayed.append([count])\n",
      "C:\\Users\\A477967\\AppData\\Local\\Temp/ipykernel_2276/201914381.py:18: FutureWarning: The frame.append method is deprecated and will be removed from pandas in a future version. Use pandas.concat instead.\n",
      "  Replayed = Replayed.append([count])\n",
      "C:\\Users\\A477967\\AppData\\Local\\Temp/ipykernel_2276/201914381.py:18: FutureWarning: The frame.append method is deprecated and will be removed from pandas in a future version. Use pandas.concat instead.\n",
      "  Replayed = Replayed.append([count])\n",
      "C:\\Users\\A477967\\AppData\\Local\\Temp/ipykernel_2276/201914381.py:18: FutureWarning: The frame.append method is deprecated and will be removed from pandas in a future version. Use pandas.concat instead.\n",
      "  Replayed = Replayed.append([count])\n",
      "C:\\Users\\A477967\\AppData\\Local\\Temp/ipykernel_2276/201914381.py:18: FutureWarning: The frame.append method is deprecated and will be removed from pandas in a future version. Use pandas.concat instead.\n",
      "  Replayed = Replayed.append([count])\n",
      "C:\\Users\\A477967\\AppData\\Local\\Temp/ipykernel_2276/201914381.py:18: FutureWarning: The frame.append method is deprecated and will be removed from pandas in a future version. Use pandas.concat instead.\n",
      "  Replayed = Replayed.append([count])\n",
      "C:\\Users\\A477967\\AppData\\Local\\Temp/ipykernel_2276/201914381.py:18: FutureWarning: The frame.append method is deprecated and will be removed from pandas in a future version. Use pandas.concat instead.\n",
      "  Replayed = Replayed.append([count])\n",
      "C:\\Users\\A477967\\AppData\\Local\\Temp/ipykernel_2276/201914381.py:18: FutureWarning: The frame.append method is deprecated and will be removed from pandas in a future version. Use pandas.concat instead.\n",
      "  Replayed = Replayed.append([count])\n",
      "C:\\Users\\A477967\\AppData\\Local\\Temp/ipykernel_2276/201914381.py:18: FutureWarning: The frame.append method is deprecated and will be removed from pandas in a future version. Use pandas.concat instead.\n",
      "  Replayed = Replayed.append([count])\n",
      "C:\\Users\\A477967\\AppData\\Local\\Temp/ipykernel_2276/201914381.py:18: FutureWarning: The frame.append method is deprecated and will be removed from pandas in a future version. Use pandas.concat instead.\n",
      "  Replayed = Replayed.append([count])\n",
      "C:\\Users\\A477967\\AppData\\Local\\Temp/ipykernel_2276/201914381.py:18: FutureWarning: The frame.append method is deprecated and will be removed from pandas in a future version. Use pandas.concat instead.\n",
      "  Replayed = Replayed.append([count])\n",
      "C:\\Users\\A477967\\AppData\\Local\\Temp/ipykernel_2276/201914381.py:18: FutureWarning: The frame.append method is deprecated and will be removed from pandas in a future version. Use pandas.concat instead.\n",
      "  Replayed = Replayed.append([count])\n",
      "C:\\Users\\A477967\\AppData\\Local\\Temp/ipykernel_2276/201914381.py:18: FutureWarning: The frame.append method is deprecated and will be removed from pandas in a future version. Use pandas.concat instead.\n",
      "  Replayed = Replayed.append([count])\n",
      "C:\\Users\\A477967\\AppData\\Local\\Temp/ipykernel_2276/201914381.py:18: FutureWarning: The frame.append method is deprecated and will be removed from pandas in a future version. Use pandas.concat instead.\n",
      "  Replayed = Replayed.append([count])\n",
      "C:\\Users\\A477967\\AppData\\Local\\Temp/ipykernel_2276/201914381.py:18: FutureWarning: The frame.append method is deprecated and will be removed from pandas in a future version. Use pandas.concat instead.\n",
      "  Replayed = Replayed.append([count])\n",
      "C:\\Users\\A477967\\AppData\\Local\\Temp/ipykernel_2276/201914381.py:18: FutureWarning: The frame.append method is deprecated and will be removed from pandas in a future version. Use pandas.concat instead.\n",
      "  Replayed = Replayed.append([count])\n",
      "C:\\Users\\A477967\\AppData\\Local\\Temp/ipykernel_2276/201914381.py:18: FutureWarning: The frame.append method is deprecated and will be removed from pandas in a future version. Use pandas.concat instead.\n",
      "  Replayed = Replayed.append([count])\n",
      "C:\\Users\\A477967\\AppData\\Local\\Temp/ipykernel_2276/201914381.py:18: FutureWarning: The frame.append method is deprecated and will be removed from pandas in a future version. Use pandas.concat instead.\n",
      "  Replayed = Replayed.append([count])\n",
      "C:\\Users\\A477967\\AppData\\Local\\Temp/ipykernel_2276/201914381.py:18: FutureWarning: The frame.append method is deprecated and will be removed from pandas in a future version. Use pandas.concat instead.\n",
      "  Replayed = Replayed.append([count])\n",
      "C:\\Users\\A477967\\AppData\\Local\\Temp/ipykernel_2276/201914381.py:18: FutureWarning: The frame.append method is deprecated and will be removed from pandas in a future version. Use pandas.concat instead.\n",
      "  Replayed = Replayed.append([count])\n",
      "C:\\Users\\A477967\\AppData\\Local\\Temp/ipykernel_2276/201914381.py:18: FutureWarning: The frame.append method is deprecated and will be removed from pandas in a future version. Use pandas.concat instead.\n",
      "  Replayed = Replayed.append([count])\n",
      "C:\\Users\\A477967\\AppData\\Local\\Temp/ipykernel_2276/201914381.py:18: FutureWarning: The frame.append method is deprecated and will be removed from pandas in a future version. Use pandas.concat instead.\n",
      "  Replayed = Replayed.append([count])\n"
     ]
    },
    {
     "name": "stderr",
     "output_type": "stream",
     "text": [
      "C:\\Users\\A477967\\AppData\\Local\\Temp/ipykernel_2276/201914381.py:18: FutureWarning: The frame.append method is deprecated and will be removed from pandas in a future version. Use pandas.concat instead.\n",
      "  Replayed = Replayed.append([count])\n",
      "C:\\Users\\A477967\\AppData\\Local\\Temp/ipykernel_2276/201914381.py:18: FutureWarning: The frame.append method is deprecated and will be removed from pandas in a future version. Use pandas.concat instead.\n",
      "  Replayed = Replayed.append([count])\n",
      "C:\\Users\\A477967\\AppData\\Local\\Temp/ipykernel_2276/201914381.py:18: FutureWarning: The frame.append method is deprecated and will be removed from pandas in a future version. Use pandas.concat instead.\n",
      "  Replayed = Replayed.append([count])\n",
      "C:\\Users\\A477967\\AppData\\Local\\Temp/ipykernel_2276/201914381.py:18: FutureWarning: The frame.append method is deprecated and will be removed from pandas in a future version. Use pandas.concat instead.\n",
      "  Replayed = Replayed.append([count])\n",
      "C:\\Users\\A477967\\AppData\\Local\\Temp/ipykernel_2276/201914381.py:18: FutureWarning: The frame.append method is deprecated and will be removed from pandas in a future version. Use pandas.concat instead.\n",
      "  Replayed = Replayed.append([count])\n",
      "C:\\Users\\A477967\\AppData\\Local\\Temp/ipykernel_2276/201914381.py:18: FutureWarning: The frame.append method is deprecated and will be removed from pandas in a future version. Use pandas.concat instead.\n",
      "  Replayed = Replayed.append([count])\n",
      "C:\\Users\\A477967\\AppData\\Local\\Temp/ipykernel_2276/201914381.py:18: FutureWarning: The frame.append method is deprecated and will be removed from pandas in a future version. Use pandas.concat instead.\n",
      "  Replayed = Replayed.append([count])\n",
      "C:\\Users\\A477967\\AppData\\Local\\Temp/ipykernel_2276/201914381.py:18: FutureWarning: The frame.append method is deprecated and will be removed from pandas in a future version. Use pandas.concat instead.\n",
      "  Replayed = Replayed.append([count])\n",
      "C:\\Users\\A477967\\AppData\\Local\\Temp/ipykernel_2276/201914381.py:18: FutureWarning: The frame.append method is deprecated and will be removed from pandas in a future version. Use pandas.concat instead.\n",
      "  Replayed = Replayed.append([count])\n",
      "C:\\Users\\A477967\\AppData\\Local\\Temp/ipykernel_2276/201914381.py:18: FutureWarning: The frame.append method is deprecated and will be removed from pandas in a future version. Use pandas.concat instead.\n",
      "  Replayed = Replayed.append([count])\n",
      "C:\\Users\\A477967\\AppData\\Local\\Temp/ipykernel_2276/201914381.py:18: FutureWarning: The frame.append method is deprecated and will be removed from pandas in a future version. Use pandas.concat instead.\n",
      "  Replayed = Replayed.append([count])\n",
      "C:\\Users\\A477967\\AppData\\Local\\Temp/ipykernel_2276/201914381.py:18: FutureWarning: The frame.append method is deprecated and will be removed from pandas in a future version. Use pandas.concat instead.\n",
      "  Replayed = Replayed.append([count])\n",
      "C:\\Users\\A477967\\AppData\\Local\\Temp/ipykernel_2276/201914381.py:18: FutureWarning: The frame.append method is deprecated and will be removed from pandas in a future version. Use pandas.concat instead.\n",
      "  Replayed = Replayed.append([count])\n",
      "C:\\Users\\A477967\\AppData\\Local\\Temp/ipykernel_2276/201914381.py:18: FutureWarning: The frame.append method is deprecated and will be removed from pandas in a future version. Use pandas.concat instead.\n",
      "  Replayed = Replayed.append([count])\n",
      "C:\\Users\\A477967\\AppData\\Local\\Temp/ipykernel_2276/201914381.py:18: FutureWarning: The frame.append method is deprecated and will be removed from pandas in a future version. Use pandas.concat instead.\n",
      "  Replayed = Replayed.append([count])\n",
      "C:\\Users\\A477967\\AppData\\Local\\Temp/ipykernel_2276/201914381.py:18: FutureWarning: The frame.append method is deprecated and will be removed from pandas in a future version. Use pandas.concat instead.\n",
      "  Replayed = Replayed.append([count])\n",
      "C:\\Users\\A477967\\AppData\\Local\\Temp/ipykernel_2276/201914381.py:18: FutureWarning: The frame.append method is deprecated and will be removed from pandas in a future version. Use pandas.concat instead.\n",
      "  Replayed = Replayed.append([count])\n",
      "C:\\Users\\A477967\\AppData\\Local\\Temp/ipykernel_2276/201914381.py:18: FutureWarning: The frame.append method is deprecated and will be removed from pandas in a future version. Use pandas.concat instead.\n",
      "  Replayed = Replayed.append([count])\n",
      "C:\\Users\\A477967\\AppData\\Local\\Temp/ipykernel_2276/201914381.py:18: FutureWarning: The frame.append method is deprecated and will be removed from pandas in a future version. Use pandas.concat instead.\n",
      "  Replayed = Replayed.append([count])\n",
      "C:\\Users\\A477967\\AppData\\Local\\Temp/ipykernel_2276/201914381.py:18: FutureWarning: The frame.append method is deprecated and will be removed from pandas in a future version. Use pandas.concat instead.\n",
      "  Replayed = Replayed.append([count])\n",
      "C:\\Users\\A477967\\AppData\\Local\\Temp/ipykernel_2276/201914381.py:18: FutureWarning: The frame.append method is deprecated and will be removed from pandas in a future version. Use pandas.concat instead.\n",
      "  Replayed = Replayed.append([count])\n",
      "C:\\Users\\A477967\\AppData\\Local\\Temp/ipykernel_2276/201914381.py:18: FutureWarning: The frame.append method is deprecated and will be removed from pandas in a future version. Use pandas.concat instead.\n",
      "  Replayed = Replayed.append([count])\n",
      "C:\\Users\\A477967\\AppData\\Local\\Temp/ipykernel_2276/201914381.py:18: FutureWarning: The frame.append method is deprecated and will be removed from pandas in a future version. Use pandas.concat instead.\n",
      "  Replayed = Replayed.append([count])\n",
      "C:\\Users\\A477967\\AppData\\Local\\Temp/ipykernel_2276/201914381.py:18: FutureWarning: The frame.append method is deprecated and will be removed from pandas in a future version. Use pandas.concat instead.\n",
      "  Replayed = Replayed.append([count])\n"
     ]
    }
   ],
   "source": [
    "import pandas as pd\n",
    "Replayed = pd.DataFrame([])\n",
    "for _ in range(0,100):\n",
    "    d = {}\n",
    "    a = get_random_bytes(2)\n",
    "    b = get_random_bytes(2)\n",
    "    d[a] = 1\n",
    "    d[b] = 1\n",
    "    count = 0\n",
    "#     print(count)\n",
    "    while a != b:\n",
    "        b = get_random_bytes(2)\n",
    "        if b in d:\n",
    "            break\n",
    "        else: d[b] = 1\n",
    "        count = count +1;\n",
    "    \n",
    "    Replayed = Replayed.append([count])"
   ]
  },
  {
   "cell_type": "code",
   "execution_count": 71,
   "id": "4e47c542",
   "metadata": {},
   "outputs": [
    {
     "name": "stdout",
     "output_type": "stream",
     "text": [
      "0    852\n",
      "dtype: int64 0    0\n",
      "dtype: int64 0    302.42\n",
      "dtype: float64\n"
     ]
    },
    {
     "data": {
      "text/plain": [
       "32800"
      ]
     },
     "execution_count": 71,
     "metadata": {},
     "output_type": "execute_result"
    }
   ],
   "source": [
    "print(Replayed.max(), Replayed.min() , Replayed.mean())\n",
    "Replayed.mean()\n",
    "b = get_random_bytes(2)\n",
    "int.from_bytes(a,'little')"
   ]
  },
  {
   "cell_type": "code",
   "execution_count": 45,
   "id": "715beaa8",
   "metadata": {},
   "outputs": [
    {
     "name": "stdout",
     "output_type": "stream",
     "text": [
      "0\n",
      "0\n",
      "0\n",
      "0\n"
     ]
    },
    {
     "name": "stderr",
     "output_type": "stream",
     "text": [
      "C:\\Users\\A477967\\AppData\\Local\\Temp/ipykernel_2276/3787485878.py:18: FutureWarning: The frame.append method is deprecated and will be removed from pandas in a future version. Use pandas.concat instead.\n",
      "  Replayed = Replayed.append([count])\n",
      "C:\\Users\\A477967\\AppData\\Local\\Temp/ipykernel_2276/3787485878.py:18: FutureWarning: The frame.append method is deprecated and will be removed from pandas in a future version. Use pandas.concat instead.\n",
      "  Replayed = Replayed.append([count])\n",
      "C:\\Users\\A477967\\AppData\\Local\\Temp/ipykernel_2276/3787485878.py:18: FutureWarning: The frame.append method is deprecated and will be removed from pandas in a future version. Use pandas.concat instead.\n",
      "  Replayed = Replayed.append([count])\n",
      "C:\\Users\\A477967\\AppData\\Local\\Temp/ipykernel_2276/3787485878.py:18: FutureWarning: The frame.append method is deprecated and will be removed from pandas in a future version. Use pandas.concat instead.\n",
      "  Replayed = Replayed.append([count])\n",
      "C:\\Users\\A477967\\AppData\\Local\\Temp/ipykernel_2276/3787485878.py:18: FutureWarning: The frame.append method is deprecated and will be removed from pandas in a future version. Use pandas.concat instead.\n",
      "  Replayed = Replayed.append([count])\n"
     ]
    },
    {
     "name": "stdout",
     "output_type": "stream",
     "text": [
      "0\n",
      "0\n",
      "0\n",
      "0\n",
      "0\n",
      "0\n",
      "0\n",
      "0\n"
     ]
    },
    {
     "name": "stderr",
     "output_type": "stream",
     "text": [
      "C:\\Users\\A477967\\AppData\\Local\\Temp/ipykernel_2276/3787485878.py:18: FutureWarning: The frame.append method is deprecated and will be removed from pandas in a future version. Use pandas.concat instead.\n",
      "  Replayed = Replayed.append([count])\n",
      "C:\\Users\\A477967\\AppData\\Local\\Temp/ipykernel_2276/3787485878.py:18: FutureWarning: The frame.append method is deprecated and will be removed from pandas in a future version. Use pandas.concat instead.\n",
      "  Replayed = Replayed.append([count])\n",
      "C:\\Users\\A477967\\AppData\\Local\\Temp/ipykernel_2276/3787485878.py:18: FutureWarning: The frame.append method is deprecated and will be removed from pandas in a future version. Use pandas.concat instead.\n",
      "  Replayed = Replayed.append([count])\n",
      "C:\\Users\\A477967\\AppData\\Local\\Temp/ipykernel_2276/3787485878.py:18: FutureWarning: The frame.append method is deprecated and will be removed from pandas in a future version. Use pandas.concat instead.\n",
      "  Replayed = Replayed.append([count])\n",
      "C:\\Users\\A477967\\AppData\\Local\\Temp/ipykernel_2276/3787485878.py:18: FutureWarning: The frame.append method is deprecated and will be removed from pandas in a future version. Use pandas.concat instead.\n",
      "  Replayed = Replayed.append([count])\n",
      "C:\\Users\\A477967\\AppData\\Local\\Temp/ipykernel_2276/3787485878.py:18: FutureWarning: The frame.append method is deprecated and will be removed from pandas in a future version. Use pandas.concat instead.\n",
      "  Replayed = Replayed.append([count])\n",
      "C:\\Users\\A477967\\AppData\\Local\\Temp/ipykernel_2276/3787485878.py:18: FutureWarning: The frame.append method is deprecated and will be removed from pandas in a future version. Use pandas.concat instead.\n",
      "  Replayed = Replayed.append([count])\n"
     ]
    },
    {
     "name": "stdout",
     "output_type": "stream",
     "text": [
      "0\n",
      "0\n",
      "0\n",
      "0\n",
      "0\n",
      "0\n"
     ]
    },
    {
     "name": "stderr",
     "output_type": "stream",
     "text": [
      "C:\\Users\\A477967\\AppData\\Local\\Temp/ipykernel_2276/3787485878.py:18: FutureWarning: The frame.append method is deprecated and will be removed from pandas in a future version. Use pandas.concat instead.\n",
      "  Replayed = Replayed.append([count])\n",
      "C:\\Users\\A477967\\AppData\\Local\\Temp/ipykernel_2276/3787485878.py:18: FutureWarning: The frame.append method is deprecated and will be removed from pandas in a future version. Use pandas.concat instead.\n",
      "  Replayed = Replayed.append([count])\n",
      "C:\\Users\\A477967\\AppData\\Local\\Temp/ipykernel_2276/3787485878.py:18: FutureWarning: The frame.append method is deprecated and will be removed from pandas in a future version. Use pandas.concat instead.\n",
      "  Replayed = Replayed.append([count])\n",
      "C:\\Users\\A477967\\AppData\\Local\\Temp/ipykernel_2276/3787485878.py:18: FutureWarning: The frame.append method is deprecated and will be removed from pandas in a future version. Use pandas.concat instead.\n",
      "  Replayed = Replayed.append([count])\n",
      "C:\\Users\\A477967\\AppData\\Local\\Temp/ipykernel_2276/3787485878.py:18: FutureWarning: The frame.append method is deprecated and will be removed from pandas in a future version. Use pandas.concat instead.\n",
      "  Replayed = Replayed.append([count])\n",
      "C:\\Users\\A477967\\AppData\\Local\\Temp/ipykernel_2276/3787485878.py:18: FutureWarning: The frame.append method is deprecated and will be removed from pandas in a future version. Use pandas.concat instead.\n",
      "  Replayed = Replayed.append([count])\n"
     ]
    },
    {
     "name": "stdout",
     "output_type": "stream",
     "text": [
      "0\n",
      "0\n",
      "0\n",
      "0\n",
      "0\n",
      "0\n",
      "0\n",
      "0\n"
     ]
    },
    {
     "name": "stderr",
     "output_type": "stream",
     "text": [
      "C:\\Users\\A477967\\AppData\\Local\\Temp/ipykernel_2276/3787485878.py:18: FutureWarning: The frame.append method is deprecated and will be removed from pandas in a future version. Use pandas.concat instead.\n",
      "  Replayed = Replayed.append([count])\n",
      "C:\\Users\\A477967\\AppData\\Local\\Temp/ipykernel_2276/3787485878.py:18: FutureWarning: The frame.append method is deprecated and will be removed from pandas in a future version. Use pandas.concat instead.\n",
      "  Replayed = Replayed.append([count])\n",
      "C:\\Users\\A477967\\AppData\\Local\\Temp/ipykernel_2276/3787485878.py:18: FutureWarning: The frame.append method is deprecated and will be removed from pandas in a future version. Use pandas.concat instead.\n",
      "  Replayed = Replayed.append([count])\n",
      "C:\\Users\\A477967\\AppData\\Local\\Temp/ipykernel_2276/3787485878.py:18: FutureWarning: The frame.append method is deprecated and will be removed from pandas in a future version. Use pandas.concat instead.\n",
      "  Replayed = Replayed.append([count])\n",
      "C:\\Users\\A477967\\AppData\\Local\\Temp/ipykernel_2276/3787485878.py:18: FutureWarning: The frame.append method is deprecated and will be removed from pandas in a future version. Use pandas.concat instead.\n",
      "  Replayed = Replayed.append([count])\n",
      "C:\\Users\\A477967\\AppData\\Local\\Temp/ipykernel_2276/3787485878.py:18: FutureWarning: The frame.append method is deprecated and will be removed from pandas in a future version. Use pandas.concat instead.\n",
      "  Replayed = Replayed.append([count])\n",
      "C:\\Users\\A477967\\AppData\\Local\\Temp/ipykernel_2276/3787485878.py:18: FutureWarning: The frame.append method is deprecated and will be removed from pandas in a future version. Use pandas.concat instead.\n",
      "  Replayed = Replayed.append([count])\n"
     ]
    },
    {
     "name": "stdout",
     "output_type": "stream",
     "text": [
      "0\n",
      "0\n",
      "0\n",
      "0\n",
      "0\n",
      "0"
     ]
    },
    {
     "name": "stderr",
     "output_type": "stream",
     "text": [
      "C:\\Users\\A477967\\AppData\\Local\\Temp/ipykernel_2276/3787485878.py:18: FutureWarning: The frame.append method is deprecated and will be removed from pandas in a future version. Use pandas.concat instead.\n",
      "  Replayed = Replayed.append([count])\n",
      "C:\\Users\\A477967\\AppData\\Local\\Temp/ipykernel_2276/3787485878.py:18: FutureWarning: The frame.append method is deprecated and will be removed from pandas in a future version. Use pandas.concat instead.\n",
      "  Replayed = Replayed.append([count])\n",
      "C:\\Users\\A477967\\AppData\\Local\\Temp/ipykernel_2276/3787485878.py:18: FutureWarning: The frame.append method is deprecated and will be removed from pandas in a future version. Use pandas.concat instead.\n",
      "  Replayed = Replayed.append([count])\n",
      "C:\\Users\\A477967\\AppData\\Local\\Temp/ipykernel_2276/3787485878.py:18: FutureWarning: The frame.append method is deprecated and will be removed from pandas in a future version. Use pandas.concat instead.\n",
      "  Replayed = Replayed.append([count])\n",
      "C:\\Users\\A477967\\AppData\\Local\\Temp/ipykernel_2276/3787485878.py:18: FutureWarning: The frame.append method is deprecated and will be removed from pandas in a future version. Use pandas.concat instead.\n",
      "  Replayed = Replayed.append([count])\n"
     ]
    },
    {
     "name": "stdout",
     "output_type": "stream",
     "text": [
      "\n",
      "0\n",
      "0\n",
      "0\n",
      "0\n",
      "0\n"
     ]
    },
    {
     "name": "stderr",
     "output_type": "stream",
     "text": [
      "C:\\Users\\A477967\\AppData\\Local\\Temp/ipykernel_2276/3787485878.py:18: FutureWarning: The frame.append method is deprecated and will be removed from pandas in a future version. Use pandas.concat instead.\n",
      "  Replayed = Replayed.append([count])\n",
      "C:\\Users\\A477967\\AppData\\Local\\Temp/ipykernel_2276/3787485878.py:18: FutureWarning: The frame.append method is deprecated and will be removed from pandas in a future version. Use pandas.concat instead.\n",
      "  Replayed = Replayed.append([count])\n",
      "C:\\Users\\A477967\\AppData\\Local\\Temp/ipykernel_2276/3787485878.py:18: FutureWarning: The frame.append method is deprecated and will be removed from pandas in a future version. Use pandas.concat instead.\n",
      "  Replayed = Replayed.append([count])\n",
      "C:\\Users\\A477967\\AppData\\Local\\Temp/ipykernel_2276/3787485878.py:18: FutureWarning: The frame.append method is deprecated and will be removed from pandas in a future version. Use pandas.concat instead.\n",
      "  Replayed = Replayed.append([count])\n",
      "C:\\Users\\A477967\\AppData\\Local\\Temp/ipykernel_2276/3787485878.py:18: FutureWarning: The frame.append method is deprecated and will be removed from pandas in a future version. Use pandas.concat instead.\n",
      "  Replayed = Replayed.append([count])\n",
      "C:\\Users\\A477967\\AppData\\Local\\Temp/ipykernel_2276/3787485878.py:18: FutureWarning: The frame.append method is deprecated and will be removed from pandas in a future version. Use pandas.concat instead.\n",
      "  Replayed = Replayed.append([count])\n"
     ]
    },
    {
     "name": "stdout",
     "output_type": "stream",
     "text": [
      "0\n",
      "0\n",
      "0\n",
      "0\n",
      "0\n"
     ]
    },
    {
     "name": "stderr",
     "output_type": "stream",
     "text": [
      "C:\\Users\\A477967\\AppData\\Local\\Temp/ipykernel_2276/3787485878.py:18: FutureWarning: The frame.append method is deprecated and will be removed from pandas in a future version. Use pandas.concat instead.\n",
      "  Replayed = Replayed.append([count])\n",
      "C:\\Users\\A477967\\AppData\\Local\\Temp/ipykernel_2276/3787485878.py:18: FutureWarning: The frame.append method is deprecated and will be removed from pandas in a future version. Use pandas.concat instead.\n",
      "  Replayed = Replayed.append([count])\n",
      "C:\\Users\\A477967\\AppData\\Local\\Temp/ipykernel_2276/3787485878.py:18: FutureWarning: The frame.append method is deprecated and will be removed from pandas in a future version. Use pandas.concat instead.\n",
      "  Replayed = Replayed.append([count])\n",
      "C:\\Users\\A477967\\AppData\\Local\\Temp/ipykernel_2276/3787485878.py:18: FutureWarning: The frame.append method is deprecated and will be removed from pandas in a future version. Use pandas.concat instead.\n",
      "  Replayed = Replayed.append([count])\n",
      "C:\\Users\\A477967\\AppData\\Local\\Temp/ipykernel_2276/3787485878.py:18: FutureWarning: The frame.append method is deprecated and will be removed from pandas in a future version. Use pandas.concat instead.\n",
      "  Replayed = Replayed.append([count])\n",
      "C:\\Users\\A477967\\AppData\\Local\\Temp/ipykernel_2276/3787485878.py:18: FutureWarning: The frame.append method is deprecated and will be removed from pandas in a future version. Use pandas.concat instead.\n",
      "  Replayed = Replayed.append([count])\n"
     ]
    },
    {
     "name": "stdout",
     "output_type": "stream",
     "text": [
      "0\n",
      "0\n",
      "0\n",
      "0\n",
      "0\n",
      "0\n",
      "0\n"
     ]
    },
    {
     "name": "stderr",
     "output_type": "stream",
     "text": [
      "C:\\Users\\A477967\\AppData\\Local\\Temp/ipykernel_2276/3787485878.py:18: FutureWarning: The frame.append method is deprecated and will be removed from pandas in a future version. Use pandas.concat instead.\n",
      "  Replayed = Replayed.append([count])\n",
      "C:\\Users\\A477967\\AppData\\Local\\Temp/ipykernel_2276/3787485878.py:18: FutureWarning: The frame.append method is deprecated and will be removed from pandas in a future version. Use pandas.concat instead.\n",
      "  Replayed = Replayed.append([count])\n",
      "C:\\Users\\A477967\\AppData\\Local\\Temp/ipykernel_2276/3787485878.py:18: FutureWarning: The frame.append method is deprecated and will be removed from pandas in a future version. Use pandas.concat instead.\n",
      "  Replayed = Replayed.append([count])\n",
      "C:\\Users\\A477967\\AppData\\Local\\Temp/ipykernel_2276/3787485878.py:18: FutureWarning: The frame.append method is deprecated and will be removed from pandas in a future version. Use pandas.concat instead.\n",
      "  Replayed = Replayed.append([count])\n",
      "C:\\Users\\A477967\\AppData\\Local\\Temp/ipykernel_2276/3787485878.py:18: FutureWarning: The frame.append method is deprecated and will be removed from pandas in a future version. Use pandas.concat instead.\n",
      "  Replayed = Replayed.append([count])\n"
     ]
    },
    {
     "name": "stdout",
     "output_type": "stream",
     "text": [
      "0\n",
      "0\n",
      "0\n",
      "0\n",
      "0"
     ]
    },
    {
     "name": "stderr",
     "output_type": "stream",
     "text": [
      "C:\\Users\\A477967\\AppData\\Local\\Temp/ipykernel_2276/3787485878.py:18: FutureWarning: The frame.append method is deprecated and will be removed from pandas in a future version. Use pandas.concat instead.\n",
      "  Replayed = Replayed.append([count])\n",
      "C:\\Users\\A477967\\AppData\\Local\\Temp/ipykernel_2276/3787485878.py:18: FutureWarning: The frame.append method is deprecated and will be removed from pandas in a future version. Use pandas.concat instead.\n",
      "  Replayed = Replayed.append([count])\n",
      "C:\\Users\\A477967\\AppData\\Local\\Temp/ipykernel_2276/3787485878.py:18: FutureWarning: The frame.append method is deprecated and will be removed from pandas in a future version. Use pandas.concat instead.\n",
      "  Replayed = Replayed.append([count])\n",
      "C:\\Users\\A477967\\AppData\\Local\\Temp/ipykernel_2276/3787485878.py:18: FutureWarning: The frame.append method is deprecated and will be removed from pandas in a future version. Use pandas.concat instead.\n",
      "  Replayed = Replayed.append([count])\n",
      "C:\\Users\\A477967\\AppData\\Local\\Temp/ipykernel_2276/3787485878.py:18: FutureWarning: The frame.append method is deprecated and will be removed from pandas in a future version. Use pandas.concat instead.\n",
      "  Replayed = Replayed.append([count])\n"
     ]
    },
    {
     "name": "stdout",
     "output_type": "stream",
     "text": [
      "\n",
      "0\n",
      "0\n",
      "0\n",
      "0\n",
      "0\n",
      "0\n"
     ]
    },
    {
     "name": "stderr",
     "output_type": "stream",
     "text": [
      "C:\\Users\\A477967\\AppData\\Local\\Temp/ipykernel_2276/3787485878.py:18: FutureWarning: The frame.append method is deprecated and will be removed from pandas in a future version. Use pandas.concat instead.\n",
      "  Replayed = Replayed.append([count])\n",
      "C:\\Users\\A477967\\AppData\\Local\\Temp/ipykernel_2276/3787485878.py:18: FutureWarning: The frame.append method is deprecated and will be removed from pandas in a future version. Use pandas.concat instead.\n",
      "  Replayed = Replayed.append([count])\n",
      "C:\\Users\\A477967\\AppData\\Local\\Temp/ipykernel_2276/3787485878.py:18: FutureWarning: The frame.append method is deprecated and will be removed from pandas in a future version. Use pandas.concat instead.\n",
      "  Replayed = Replayed.append([count])\n",
      "C:\\Users\\A477967\\AppData\\Local\\Temp/ipykernel_2276/3787485878.py:18: FutureWarning: The frame.append method is deprecated and will be removed from pandas in a future version. Use pandas.concat instead.\n",
      "  Replayed = Replayed.append([count])\n",
      "C:\\Users\\A477967\\AppData\\Local\\Temp/ipykernel_2276/3787485878.py:18: FutureWarning: The frame.append method is deprecated and will be removed from pandas in a future version. Use pandas.concat instead.\n",
      "  Replayed = Replayed.append([count])\n",
      "C:\\Users\\A477967\\AppData\\Local\\Temp/ipykernel_2276/3787485878.py:18: FutureWarning: The frame.append method is deprecated and will be removed from pandas in a future version. Use pandas.concat instead.\n",
      "  Replayed = Replayed.append([count])\n",
      "C:\\Users\\A477967\\AppData\\Local\\Temp/ipykernel_2276/3787485878.py:18: FutureWarning: The frame.append method is deprecated and will be removed from pandas in a future version. Use pandas.concat instead.\n",
      "  Replayed = Replayed.append([count])\n",
      "C:\\Users\\A477967\\AppData\\Local\\Temp/ipykernel_2276/3787485878.py:18: FutureWarning: The frame.append method is deprecated and will be removed from pandas in a future version. Use pandas.concat instead.\n",
      "  Replayed = Replayed.append([count])\n"
     ]
    },
    {
     "name": "stdout",
     "output_type": "stream",
     "text": [
      "0\n",
      "0\n",
      "0\n",
      "0\n",
      "0\n"
     ]
    },
    {
     "name": "stderr",
     "output_type": "stream",
     "text": [
      "C:\\Users\\A477967\\AppData\\Local\\Temp/ipykernel_2276/3787485878.py:18: FutureWarning: The frame.append method is deprecated and will be removed from pandas in a future version. Use pandas.concat instead.\n",
      "  Replayed = Replayed.append([count])\n",
      "C:\\Users\\A477967\\AppData\\Local\\Temp/ipykernel_2276/3787485878.py:18: FutureWarning: The frame.append method is deprecated and will be removed from pandas in a future version. Use pandas.concat instead.\n",
      "  Replayed = Replayed.append([count])\n",
      "C:\\Users\\A477967\\AppData\\Local\\Temp/ipykernel_2276/3787485878.py:18: FutureWarning: The frame.append method is deprecated and will be removed from pandas in a future version. Use pandas.concat instead.\n",
      "  Replayed = Replayed.append([count])\n",
      "C:\\Users\\A477967\\AppData\\Local\\Temp/ipykernel_2276/3787485878.py:18: FutureWarning: The frame.append method is deprecated and will be removed from pandas in a future version. Use pandas.concat instead.\n",
      "  Replayed = Replayed.append([count])\n",
      "C:\\Users\\A477967\\AppData\\Local\\Temp/ipykernel_2276/3787485878.py:18: FutureWarning: The frame.append method is deprecated and will be removed from pandas in a future version. Use pandas.concat instead.\n",
      "  Replayed = Replayed.append([count])\n"
     ]
    },
    {
     "name": "stdout",
     "output_type": "stream",
     "text": [
      "0\n",
      "0\n",
      "0\n",
      "0\n",
      "0\n",
      "0\n",
      "0\n",
      "0\n"
     ]
    },
    {
     "name": "stderr",
     "output_type": "stream",
     "text": [
      "C:\\Users\\A477967\\AppData\\Local\\Temp/ipykernel_2276/3787485878.py:18: FutureWarning: The frame.append method is deprecated and will be removed from pandas in a future version. Use pandas.concat instead.\n",
      "  Replayed = Replayed.append([count])\n",
      "C:\\Users\\A477967\\AppData\\Local\\Temp/ipykernel_2276/3787485878.py:18: FutureWarning: The frame.append method is deprecated and will be removed from pandas in a future version. Use pandas.concat instead.\n",
      "  Replayed = Replayed.append([count])\n",
      "C:\\Users\\A477967\\AppData\\Local\\Temp/ipykernel_2276/3787485878.py:18: FutureWarning: The frame.append method is deprecated and will be removed from pandas in a future version. Use pandas.concat instead.\n",
      "  Replayed = Replayed.append([count])\n",
      "C:\\Users\\A477967\\AppData\\Local\\Temp/ipykernel_2276/3787485878.py:18: FutureWarning: The frame.append method is deprecated and will be removed from pandas in a future version. Use pandas.concat instead.\n",
      "  Replayed = Replayed.append([count])\n",
      "C:\\Users\\A477967\\AppData\\Local\\Temp/ipykernel_2276/3787485878.py:18: FutureWarning: The frame.append method is deprecated and will be removed from pandas in a future version. Use pandas.concat instead.\n",
      "  Replayed = Replayed.append([count])\n",
      "C:\\Users\\A477967\\AppData\\Local\\Temp/ipykernel_2276/3787485878.py:18: FutureWarning: The frame.append method is deprecated and will be removed from pandas in a future version. Use pandas.concat instead.\n",
      "  Replayed = Replayed.append([count])\n",
      "C:\\Users\\A477967\\AppData\\Local\\Temp/ipykernel_2276/3787485878.py:18: FutureWarning: The frame.append method is deprecated and will be removed from pandas in a future version. Use pandas.concat instead.\n",
      "  Replayed = Replayed.append([count])\n"
     ]
    },
    {
     "name": "stdout",
     "output_type": "stream",
     "text": [
      "0\n",
      "0\n",
      "0\n",
      "0\n",
      "0\n",
      "0\n",
      "0\n"
     ]
    },
    {
     "name": "stderr",
     "output_type": "stream",
     "text": [
      "C:\\Users\\A477967\\AppData\\Local\\Temp/ipykernel_2276/3787485878.py:18: FutureWarning: The frame.append method is deprecated and will be removed from pandas in a future version. Use pandas.concat instead.\n",
      "  Replayed = Replayed.append([count])\n",
      "C:\\Users\\A477967\\AppData\\Local\\Temp/ipykernel_2276/3787485878.py:18: FutureWarning: The frame.append method is deprecated and will be removed from pandas in a future version. Use pandas.concat instead.\n",
      "  Replayed = Replayed.append([count])\n",
      "C:\\Users\\A477967\\AppData\\Local\\Temp/ipykernel_2276/3787485878.py:18: FutureWarning: The frame.append method is deprecated and will be removed from pandas in a future version. Use pandas.concat instead.\n",
      "  Replayed = Replayed.append([count])\n",
      "C:\\Users\\A477967\\AppData\\Local\\Temp/ipykernel_2276/3787485878.py:18: FutureWarning: The frame.append method is deprecated and will be removed from pandas in a future version. Use pandas.concat instead.\n",
      "  Replayed = Replayed.append([count])\n",
      "C:\\Users\\A477967\\AppData\\Local\\Temp/ipykernel_2276/3787485878.py:18: FutureWarning: The frame.append method is deprecated and will be removed from pandas in a future version. Use pandas.concat instead.\n",
      "  Replayed = Replayed.append([count])\n",
      "C:\\Users\\A477967\\AppData\\Local\\Temp/ipykernel_2276/3787485878.py:18: FutureWarning: The frame.append method is deprecated and will be removed from pandas in a future version. Use pandas.concat instead.\n",
      "  Replayed = Replayed.append([count])\n",
      "C:\\Users\\A477967\\AppData\\Local\\Temp/ipykernel_2276/3787485878.py:18: FutureWarning: The frame.append method is deprecated and will be removed from pandas in a future version. Use pandas.concat instead.\n",
      "  Replayed = Replayed.append([count])\n",
      "C:\\Users\\A477967\\AppData\\Local\\Temp/ipykernel_2276/3787485878.py:18: FutureWarning: The frame.append method is deprecated and will be removed from pandas in a future version. Use pandas.concat instead.\n",
      "  Replayed = Replayed.append([count])\n",
      "C:\\Users\\A477967\\AppData\\Local\\Temp/ipykernel_2276/3787485878.py:18: FutureWarning: The frame.append method is deprecated and will be removed from pandas in a future version. Use pandas.concat instead.\n",
      "  Replayed = Replayed.append([count])\n",
      "C:\\Users\\A477967\\AppData\\Local\\Temp/ipykernel_2276/3787485878.py:18: FutureWarning: The frame.append method is deprecated and will be removed from pandas in a future version. Use pandas.concat instead.\n",
      "  Replayed = Replayed.append([count])\n"
     ]
    },
    {
     "name": "stdout",
     "output_type": "stream",
     "text": [
      "0\n",
      "0\n",
      "0\n",
      "0\n",
      "0\n"
     ]
    },
    {
     "name": "stderr",
     "output_type": "stream",
     "text": [
      "C:\\Users\\A477967\\AppData\\Local\\Temp/ipykernel_2276/3787485878.py:18: FutureWarning: The frame.append method is deprecated and will be removed from pandas in a future version. Use pandas.concat instead.\n",
      "  Replayed = Replayed.append([count])\n",
      "C:\\Users\\A477967\\AppData\\Local\\Temp/ipykernel_2276/3787485878.py:18: FutureWarning: The frame.append method is deprecated and will be removed from pandas in a future version. Use pandas.concat instead.\n",
      "  Replayed = Replayed.append([count])\n",
      "C:\\Users\\A477967\\AppData\\Local\\Temp/ipykernel_2276/3787485878.py:18: FutureWarning: The frame.append method is deprecated and will be removed from pandas in a future version. Use pandas.concat instead.\n",
      "  Replayed = Replayed.append([count])\n",
      "C:\\Users\\A477967\\AppData\\Local\\Temp/ipykernel_2276/3787485878.py:18: FutureWarning: The frame.append method is deprecated and will be removed from pandas in a future version. Use pandas.concat instead.\n",
      "  Replayed = Replayed.append([count])\n",
      "C:\\Users\\A477967\\AppData\\Local\\Temp/ipykernel_2276/3787485878.py:18: FutureWarning: The frame.append method is deprecated and will be removed from pandas in a future version. Use pandas.concat instead.\n",
      "  Replayed = Replayed.append([count])\n",
      "C:\\Users\\A477967\\AppData\\Local\\Temp/ipykernel_2276/3787485878.py:18: FutureWarning: The frame.append method is deprecated and will be removed from pandas in a future version. Use pandas.concat instead.\n",
      "  Replayed = Replayed.append([count])\n"
     ]
    },
    {
     "name": "stdout",
     "output_type": "stream",
     "text": [
      "0\n",
      "0\n",
      "0\n",
      "0\n",
      "0\n",
      "0\n"
     ]
    },
    {
     "name": "stderr",
     "output_type": "stream",
     "text": [
      "C:\\Users\\A477967\\AppData\\Local\\Temp/ipykernel_2276/3787485878.py:18: FutureWarning: The frame.append method is deprecated and will be removed from pandas in a future version. Use pandas.concat instead.\n",
      "  Replayed = Replayed.append([count])\n",
      "C:\\Users\\A477967\\AppData\\Local\\Temp/ipykernel_2276/3787485878.py:18: FutureWarning: The frame.append method is deprecated and will be removed from pandas in a future version. Use pandas.concat instead.\n",
      "  Replayed = Replayed.append([count])\n",
      "C:\\Users\\A477967\\AppData\\Local\\Temp/ipykernel_2276/3787485878.py:18: FutureWarning: The frame.append method is deprecated and will be removed from pandas in a future version. Use pandas.concat instead.\n",
      "  Replayed = Replayed.append([count])\n",
      "C:\\Users\\A477967\\AppData\\Local\\Temp/ipykernel_2276/3787485878.py:18: FutureWarning: The frame.append method is deprecated and will be removed from pandas in a future version. Use pandas.concat instead.\n",
      "  Replayed = Replayed.append([count])\n",
      "C:\\Users\\A477967\\AppData\\Local\\Temp/ipykernel_2276/3787485878.py:18: FutureWarning: The frame.append method is deprecated and will be removed from pandas in a future version. Use pandas.concat instead.\n",
      "  Replayed = Replayed.append([count])\n",
      "C:\\Users\\A477967\\AppData\\Local\\Temp/ipykernel_2276/3787485878.py:18: FutureWarning: The frame.append method is deprecated and will be removed from pandas in a future version. Use pandas.concat instead.\n",
      "  Replayed = Replayed.append([count])\n",
      "C:\\Users\\A477967\\AppData\\Local\\Temp/ipykernel_2276/3787485878.py:18: FutureWarning: The frame.append method is deprecated and will be removed from pandas in a future version. Use pandas.concat instead.\n",
      "  Replayed = Replayed.append([count])\n"
     ]
    },
    {
     "name": "stdout",
     "output_type": "stream",
     "text": [
      "0\n",
      "0\n",
      "0\n",
      "0\n",
      "0\n",
      "0\n",
      "0\n",
      "0\n",
      "0\n"
     ]
    },
    {
     "name": "stderr",
     "output_type": "stream",
     "text": [
      "C:\\Users\\A477967\\AppData\\Local\\Temp/ipykernel_2276/3787485878.py:18: FutureWarning: The frame.append method is deprecated and will be removed from pandas in a future version. Use pandas.concat instead.\n",
      "  Replayed = Replayed.append([count])\n",
      "C:\\Users\\A477967\\AppData\\Local\\Temp/ipykernel_2276/3787485878.py:18: FutureWarning: The frame.append method is deprecated and will be removed from pandas in a future version. Use pandas.concat instead.\n",
      "  Replayed = Replayed.append([count])\n",
      "C:\\Users\\A477967\\AppData\\Local\\Temp/ipykernel_2276/3787485878.py:18: FutureWarning: The frame.append method is deprecated and will be removed from pandas in a future version. Use pandas.concat instead.\n",
      "  Replayed = Replayed.append([count])\n"
     ]
    }
   ],
   "source": [
    "import pandas as pd\n",
    "Replayed = pd.DataFrame([])\n",
    "for _ in range(0,100):\n",
    "    d = {}\n",
    "    a = get_random_bytes(4).hex()\n",
    "    b = get_random_bytes(4).hex()\n",
    "    d[a] = 1\n",
    "    d[b] = 1\n",
    "    count = 0\n",
    "    print(count)\n",
    "    while a != b:\n",
    "        b = get_random_bytes(4).hex()\n",
    "        if b in d:\n",
    "            break\n",
    "        else: d[b] = 1\n",
    "        count = count +1;\n",
    "    \n",
    "    Replayed = Replayed.append([count])"
   ]
  },
  {
   "cell_type": "code",
   "execution_count": 48,
   "id": "eaf14403",
   "metadata": {},
   "outputs": [
    {
     "data": {
      "text/plain": [
       "0    219540\n",
       "dtype: int64"
      ]
     },
     "execution_count": 48,
     "metadata": {},
     "output_type": "execute_result"
    }
   ],
   "source": [
    "Replayed.max()"
   ]
  },
  {
   "cell_type": "code",
   "execution_count": 52,
   "id": "3379a539",
   "metadata": {},
   "outputs": [
    {
     "name": "stdout",
     "output_type": "stream",
     "text": [
      "0\n"
     ]
    }
   ],
   "source": [
    "    d = {}\n",
    "    a = get_random_bytes(4).hex()\n",
    "    b = get_random_bytes(4).hex()\n",
    "    d[a] = 1\n",
    "    d[b] = 1\n",
    "    count = 0\n",
    "    print(count)\n",
    "    while a != b:\n",
    "        b = get_random_bytes(4).hex()\n",
    "        if b in d:\n",
    "            break\n",
    "        else: d[b] = 1\n",
    "        count = count +1;"
   ]
  },
  {
   "cell_type": "code",
   "execution_count": 53,
   "id": "9534dbef",
   "metadata": {},
   "outputs": [
    {
     "name": "stdout",
     "output_type": "stream",
     "text": [
      "113474\n"
     ]
    }
   ],
   "source": [
    "print(count)"
   ]
  },
  {
   "cell_type": "code",
   "execution_count": null,
   "id": "5fb55013",
   "metadata": {},
   "outputs": [],
   "source": []
  }
 ],
 "metadata": {
  "kernelspec": {
   "display_name": "Python 3 (ipykernel)",
   "language": "python",
   "name": "python3"
  },
  "language_info": {
   "codemirror_mode": {
    "name": "ipython",
    "version": 3
   },
   "file_extension": ".py",
   "mimetype": "text/x-python",
   "name": "python",
   "nbconvert_exporter": "python",
   "pygments_lexer": "ipython3",
   "version": "3.9.7"
  }
 },
 "nbformat": 4,
 "nbformat_minor": 5
}
